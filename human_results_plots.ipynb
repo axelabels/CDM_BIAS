{
 "cells": [
  {
   "cell_type": "code",
   "execution_count": null,
   "metadata": {},
   "outputs": [],
   "source": [
    "import seaborn as sns\n",
    "import matplotlib.pyplot as plt\n",
    "import pandas as pd\n",
    "import numpy as np\n",
    "import os\n",
    "output_folder = \"figures/\"\n",
    "os.makedirs(output_folder,exist_ok=True)\n",
    "names_map={'meta':'Meta-CMAB (LinUCB)','ts':'Meta-CMAB (TS)','falcon':'Meta-CMAB (FALCON)','mexpl3':'Meta-CMAB (UCB)','expl3':'EXPL3',\n",
    "            'cover':'Meta-CMAB (ILTCB)','avg':'Average','scb':'Meta-CMAB (SquareCB)','exp4':'Exp4','mab':'Meta-MAB (KL-UCB)','random':'random',\n",
    "          'best expert':'Best Expert','worst expert':'Worst Expert','exp4':'EXP4-IX'}\n",
    "\n",
    "meta_style = (1,0)\n",
    "linestyles={'Meta-CMAB (Cover)':(1,0),'Meta-CMAB (TS)':meta_style,'Meta-CMAB (ILTCB)':meta_style,'Meta-CMAB (FALCON)':meta_style,\n",
    "                'Greedy':(1,0),'Average': (3,1,1,1),'EXP4-IX':(5,1),'Meta-CMAB (UCB)':meta_style,\n",
    "                'Meta-MAB (KL-UCB)':(5,1),'Best Expert':(1,1),'Worst Expert':(1,1)}\n",
    "\n",
    "palette={'Average':'C1','EXP4-IX':'C0', 'Meta-CMAB (ILTCB)':'C4', 'Meta-CMAB (FALCON)':'C6','Meta-MAB (KL-UCB)':'C3',\n",
    "        'Meta-CMAB (TS)':'C5',f'Meta-CMAB (UCB)':'C2','Best Expert':'C5','Worst Expert':'C6',\n",
    "       }\n",
    "x_label = \"Expertise std\"\n",
    "\n",
    "sns.set_context('notebook',font_scale=1.3, rc={\"lines.linewidth\": 2.5})\n",
    "for p,dataset_name in enumerate((\"dunchenne\",\"trec\",\"snow\",)[:]):\n",
    "    plt.figure(figsize=(3,3))\n",
    "    print_res = pd.read_csv(dataset_name+\"k_results.csv\")\n",
    "\n",
    "    print_res['alg']=print_res['alg'].map(names_map.get)\n",
    "\n",
    "    \n",
    "    rolls=[]\n",
    "    for alg in print_res.alg.unique():\n",
    "        rolled = (print_res[print_res.alg==alg].sort_values(by=[x_label]).rolling(window=min(print_res['Expertise std'].nunique()-1,20)).mean())\n",
    "        rolled['alg']=alg\n",
    "        rolled = rolled[~rolled[x_label].isnull()]\n",
    "        rolls.append(rolled)\n",
    "    print_res=pd.concat(rolls)\n",
    "\n",
    "    print_res = print_res[~print_res.alg.isin(['EXPL3','Meta-CMAB (LinUCB)','Meta-CMAB (SquareCB)','mEXPL3'])]\n",
    "    print_res = print_res[~print_res.alg.isin(['EXPL3','Meta-CMAB (LinUCB)','Meta-CMAB (FALCON)','Meta-CMAB (ILTCB)','Meta-CMAB (TS)','Meta-CMAB (SquareCB)','mEXPL3'])]\n",
    "\n",
    "    ax = sns.lineplot(data=print_res[print_res.alg!=\"random\"],style=\"alg\",dashes=linestyles,x=x_label,palette=palette,hue=\"alg\",y=\"Mean reward\",legend=p==0)\n",
    "    \n",
    "    if dataset_name!=\"snow\": ax.set_ylabel(None)\n",
    "    random_values = print_res[print_res.alg==\"random\"].values\n",
    "    plt.axhline(np.mean(random_values[:,2]),c=\"red\",ls=\"--\",linewidth=1,label=\"random policy\")\n",
    "    \n",
    "    if p==0:\n",
    "        plt.legend(bbox_to_anchor=(1.05, 1), loc=2, borderaxespad=0.,frameon=False)\n",
    "    plt.title(\"CBA\"[p])\n",
    "    plt.ylim(0,1)\n",
    "    plt.savefig(\"figures/\"+dataset_name+\"_plot.pdf\",bbox_inches='tight')\n",
    "    plt.show()\n",
    "    "
   ]
  },
  {
   "cell_type": "code",
   "execution_count": null,
   "metadata": {},
   "outputs": [],
   "source": []
  }
 ],
 "metadata": {
  "kernelspec": {
   "display_name": "Python 3.7.7 ('base')",
   "language": "python",
   "name": "python3"
  },
  "language_info": {
   "codemirror_mode": {
    "name": "ipython",
    "version": 3
   },
   "file_extension": ".py",
   "mimetype": "text/x-python",
   "name": "python",
   "nbconvert_exporter": "python",
   "pygments_lexer": "ipython3",
   "version": "3.7.7"
  },
  "vscode": {
   "interpreter": {
    "hash": "bcaf528309abe4e51daa4cb741a813f965426363d29a8fd5e572f6cc949e62bc"
   }
  }
 },
 "nbformat": 4,
 "nbformat_minor": 4
}
